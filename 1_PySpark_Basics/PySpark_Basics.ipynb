{
 "cells": [
  {
   "cell_type": "markdown",
   "id": "trained-moses",
   "metadata": {},
   "source": [
    "import libraries(I provide all libs that I need when make this tasks, if you need some external import them here)"
   ]
  },
  {
   "cell_type": "code",
   "execution_count": 1,
   "id": "b371438f",
   "metadata": {},
   "outputs": [],
   "source": [
    "import os\n",
    "os.environ[\"JAVA_HOME\"] = \"/usr/lib/jvm/java-8-openjdk-amd64\"\n",
    "\n",
    "import findspark\n",
    "findspark.init()"
   ]
  },
  {
   "cell_type": "code",
   "execution_count": 2,
   "id": "664b5399",
   "metadata": {},
   "outputs": [
    {
     "name": "stdout",
     "output_type": "stream",
     "text": [
      "JAVA_HOME: /usr/lib/jvm/java-8-openjdk-amd64\n",
      "SPARK_HOME: /opt/spark\n"
     ]
    }
   ],
   "source": [
    "#Check that installation is succesful \n",
    "print(\"JAVA_HOME:\", os.environ.get(\"JAVA_HOME\"))\n",
    "print(\"SPARK_HOME:\", os.environ.get(\"SPARK_HOME\"))\n"
   ]
  },
  {
   "cell_type": "code",
   "execution_count": 3,
   "id": "induced-african",
   "metadata": {},
   "outputs": [],
   "source": [
    "import pyspark\n",
    "from pyspark.sql import SparkSession\n",
    "from pyspark.sql.types import StructType, StructField, IntegerType, StringType\n",
    "from pyspark.sql.functions import col\n",
    "from pyspark.sql.functions import max, avg, min\n",
    "from pyspark.sql.window import Window\n",
    "from pyspark.sql.functions import row_number, rank\n",
    "from pyspark.sql.functions import when"
   ]
  },
  {
   "cell_type": "code",
   "execution_count": 5,
   "id": "d3dc2d14",
   "metadata": {},
   "outputs": [
    {
     "name": "stdout",
     "output_type": "stream",
     "text": [
      "CPU times: user 2 μs, sys: 1 μs, total: 3 μs\n",
      "Wall time: 3.1 μs\n"
     ]
    }
   ],
   "source": [
    "%%time\n",
    "#write it to measure time"
   ]
  },
  {
   "cell_type": "markdown",
   "id": "permanent-photographer",
   "metadata": {},
   "source": [
    "create local SparkSession"
   ]
  },
  {
   "cell_type": "code",
   "execution_count": 4,
   "id": "stock-partnership",
   "metadata": {},
   "outputs": [
    {
     "name": "stderr",
     "output_type": "stream",
     "text": [
      "25/06/20 11:33:43 WARN Utils: Your hostname, athena resolves to a loopback address: 127.0.1.1; using 10.255.255.254 instead (on interface lo)\n",
      "25/06/20 11:33:43 WARN Utils: Set SPARK_LOCAL_IP if you need to bind to another address\n",
      "25/06/20 11:33:44 WARN NativeCodeLoader: Unable to load native-hadoop library for your platform... using builtin-java classes where applicable\n",
      "Using Spark's default log4j profile: org/apache/spark/log4j-defaults.properties\n",
      "Setting default log level to \"WARN\".\n",
      "To adjust logging level use sc.setLogLevel(newLevel). For SparkR, use setLogLevel(newLevel).\n"
     ]
    }
   ],
   "source": [
    "spark = SparkSession.builder \\\n",
    "    .master(\"local[*]\") \\\n",
    "    .appName(\"MyNotebookApp\") \\\n",
    "    .getOrCreate()"
   ]
  },
  {
   "cell_type": "markdown",
   "id": "juvenile-blame",
   "metadata": {},
   "source": [
    "read csv with inferschema"
   ]
  },
  {
   "cell_type": "code",
   "execution_count": 5,
   "id": "computational-liverpool",
   "metadata": {},
   "outputs": [
    {
     "name": "stdout",
     "output_type": "stream",
     "text": [
      "CPU times: user 0 ns, sys: 4.52 ms, total: 4.52 ms\n",
      "Wall time: 2.6 s\n"
     ]
    }
   ],
   "source": [
    "%%time\n",
    "df1 = spark.read.option(\"header\", True).option(\"inferSchema\", True).csv(\"ds_salaries.csv\")"
   ]
  },
  {
   "cell_type": "markdown",
   "id": "stopped-dominant",
   "metadata": {},
   "source": [
    "read csv one more time with the same code and you will see that it almostly don't take time, because info already in SparkSession and it will not read nothing\n",
    "from this file"
   ]
  },
  {
   "cell_type": "code",
   "execution_count": 9,
   "id": "aging-neighborhood",
   "metadata": {},
   "outputs": [
    {
     "name": "stdout",
     "output_type": "stream",
     "text": [
      "CPU times: user 3.13 ms, sys: 0 ns, total: 3.13 ms\n",
      "Wall time: 145 ms\n"
     ]
    }
   ],
   "source": [
    "%%time\n",
    "df1 = spark.read.option(\"header\", True).option(\"inferSchema\", True).csv(\"ds_salaries.csv\")"
   ]
  },
  {
   "cell_type": "markdown",
   "id": "mature-tomorrow",
   "metadata": {},
   "source": [
    "write schema of scv on screen"
   ]
  },
  {
   "cell_type": "code",
   "execution_count": 10,
   "id": "least-communications",
   "metadata": {},
   "outputs": [
    {
     "name": "stdout",
     "output_type": "stream",
     "text": [
      "root\n",
      " |-- _c0: integer (nullable = true)\n",
      " |-- work_year: integer (nullable = true)\n",
      " |-- experience_level: string (nullable = true)\n",
      " |-- employment_type: string (nullable = true)\n",
      " |-- job_title: string (nullable = true)\n",
      " |-- salary: integer (nullable = true)\n",
      " |-- salary_currency: string (nullable = true)\n",
      " |-- salary_in_usd: integer (nullable = true)\n",
      " |-- employee_residence: string (nullable = true)\n",
      " |-- remote_ratio: integer (nullable = true)\n",
      " |-- company_location: string (nullable = true)\n",
      " |-- company_size: string (nullable = true)\n",
      "\n"
     ]
    }
   ],
   "source": [
    "df1.printSchema()"
   ]
  },
  {
   "cell_type": "markdown",
   "id": "connected-brother",
   "metadata": {},
   "source": [
    "create schema of this scv"
   ]
  },
  {
   "cell_type": "code",
   "execution_count": 5,
   "id": "progressive-dictionary",
   "metadata": {},
   "outputs": [],
   "source": [
    "schema = StructType() \\\n",
    "    .add(\"_c0\", IntegerType(), True) \\\n",
    "    .add(\"work_year\", IntegerType(), True) \\\n",
    "    .add(\"experience_level\", StringType(), True) \\\n",
    "    .add(\"employment_type\", StringType(), True) \\\n",
    "    .add(\"job_title\", StringType(), True) \\\n",
    "    .add(\"salary\", IntegerType(), True) \\\n",
    "    .add(\"salary_currency\", StringType(), True) \\\n",
    "    .add(\"salary_in_usd\", IntegerType(), True) \\\n",
    "    .add(\"employee_residence\", StringType(), True) \\\n",
    "    .add(\"remote_ratio\", IntegerType(), True) \\\n",
    "    .add(\"company_location\", StringType(), True) \\\n",
    "    .add(\"company_size\", StringType(), True) \n",
    "\n"
   ]
  },
  {
   "cell_type": "markdown",
   "id": "auburn-sauce",
   "metadata": {},
   "source": [
    "restart kernel without cleaning output and after restarting you need to initialize SparkSession, after initialize start execute only cells from cell with schema=\n",
    "=StructType.... \n",
    "To restart kernel click Kernel, Restart."
   ]
  },
  {
   "cell_type": "markdown",
   "id": "artistic-hospital",
   "metadata": {},
   "source": [
    "read ds_salaries with predefined schema and compare results from this cell and cell with inferSchema"
   ]
  },
  {
   "cell_type": "code",
   "execution_count": 6,
   "id": "literary-plaintiff",
   "metadata": {},
   "outputs": [
    {
     "name": "stdout",
     "output_type": "stream",
     "text": [
      "CPU times: user 4.46 ms, sys: 0 ns, total: 4.46 ms\n",
      "Wall time: 966 ms\n"
     ]
    }
   ],
   "source": [
    "%%time\n",
    "df_with_schema = spark.read.format(\"csv\").option(\"header\", True) \\\n",
    "    .schema(schema) \\\n",
    "    .load(\"ds_salaries.csv\")"
   ]
  },
  {
   "cell_type": "markdown",
   "id": "senior-joint",
   "metadata": {},
   "source": [
    "this happens because read operation is lazy(transformation), but if you use inferschema it start to be action that will create Spark Job, because Spark need to loop throw all file to check datatypes for all columns and this can harm to your code(if we compare to parquet, it will also go to check data types, but parquet provide meta information, so Spark will not go throw all file, he will just read meta information, but csv don't provide such meta information). Also header make Spark to create one more Spark Job to check first line\n",
    "to define name of columns and remember to skeep it when reading. Actual reading start when you will use first action. More about Spark Jobs you will see in next topic"
   ]
  },
  {
   "cell_type": "markdown",
   "id": "underlying-assurance",
   "metadata": {},
   "source": [
    "write schema of scv on screen one more time and compare with previous"
   ]
  },
  {
   "cell_type": "code",
   "execution_count": 13,
   "id": "solid-infection",
   "metadata": {},
   "outputs": [
    {
     "name": "stdout",
     "output_type": "stream",
     "text": [
      "root\n",
      " |-- _c0: integer (nullable = true)\n",
      " |-- work_year: integer (nullable = true)\n",
      " |-- experience_level: string (nullable = true)\n",
      " |-- employment_type: string (nullable = true)\n",
      " |-- job_title: string (nullable = true)\n",
      " |-- salary: integer (nullable = true)\n",
      " |-- salary_currency: string (nullable = true)\n",
      " |-- salary_in_usd: integer (nullable = true)\n",
      " |-- employee_residence: string (nullable = true)\n",
      " |-- remote_ratio: integer (nullable = true)\n",
      " |-- company_location: string (nullable = true)\n",
      " |-- company_size: integer (nullable = true)\n",
      "\n"
     ]
    }
   ],
   "source": [
    "df_with_schema.printSchema()"
   ]
  },
  {
   "cell_type": "markdown",
   "id": "close-water",
   "metadata": {},
   "source": [
    "now continue to work with one of the dataframes that you create"
   ]
  },
  {
   "cell_type": "markdown",
   "id": "piano-belgium",
   "metadata": {},
   "source": [
    "print data in dataframe using df.show"
   ]
  },
  {
   "cell_type": "code",
   "execution_count": 7,
   "id": "legendary-alarm",
   "metadata": {},
   "outputs": [
    {
     "name": "stdout",
     "output_type": "stream",
     "text": [
      "+---+---------+----------------+---------------+--------------------+--------+---------------+-------------+------------------+------------+----------------+------------+\n",
      "|_c0|work_year|experience_level|employment_type|           job_title|  salary|salary_currency|salary_in_usd|employee_residence|remote_ratio|company_location|company_size|\n",
      "+---+---------+----------------+---------------+--------------------+--------+---------------+-------------+------------------+------------+----------------+------------+\n",
      "|  0|     2020|              MI|             FT|      Data Scientist|   70000|            EUR|        79833|                DE|           0|              DE|           L|\n",
      "|  1|     2020|              SE|             FT|Machine Learning ...|  260000|            USD|       260000|                JP|           0|              JP|           S|\n",
      "|  2|     2020|              SE|             FT|   Big Data Engineer|   85000|            GBP|       109024|                GB|          50|              GB|           M|\n",
      "|  3|     2020|              MI|             FT|Product Data Analyst|   20000|            USD|        20000|                HN|           0|              HN|           S|\n",
      "|  4|     2020|              SE|             FT|Machine Learning ...|  150000|            USD|       150000|                US|          50|              US|           L|\n",
      "|  5|     2020|              EN|             FT|        Data Analyst|   72000|            USD|        72000|                US|         100|              US|           L|\n",
      "|  6|     2020|              SE|             FT| Lead Data Scientist|  190000|            USD|       190000|                US|         100|              US|           S|\n",
      "|  7|     2020|              MI|             FT|      Data Scientist|11000000|            HUF|        35735|                HU|          50|              HU|           L|\n",
      "|  8|     2020|              MI|             FT|Business Data Ana...|  135000|            USD|       135000|                US|         100|              US|           L|\n",
      "|  9|     2020|              SE|             FT|  Lead Data Engineer|  125000|            USD|       125000|                NZ|          50|              NZ|           S|\n",
      "| 10|     2020|              EN|             FT|      Data Scientist|   45000|            EUR|        51321|                FR|           0|              FR|           S|\n",
      "| 11|     2020|              MI|             FT|      Data Scientist| 3000000|            INR|        40481|                IN|           0|              IN|           L|\n",
      "| 12|     2020|              EN|             FT|      Data Scientist|   35000|            EUR|        39916|                FR|           0|              FR|           M|\n",
      "| 13|     2020|              MI|             FT|   Lead Data Analyst|   87000|            USD|        87000|                US|         100|              US|           L|\n",
      "| 14|     2020|              MI|             FT|        Data Analyst|   85000|            USD|        85000|                US|         100|              US|           L|\n",
      "| 15|     2020|              MI|             FT|        Data Analyst|    8000|            USD|         8000|                PK|          50|              PK|           L|\n",
      "| 16|     2020|              EN|             FT|       Data Engineer| 4450000|            JPY|        41689|                JP|         100|              JP|           S|\n",
      "| 17|     2020|              SE|             FT|   Big Data Engineer|  100000|            EUR|       114047|                PL|         100|              GB|           S|\n",
      "| 18|     2020|              EN|             FT|Data Science Cons...|  423000|            INR|         5707|                IN|          50|              IN|           M|\n",
      "| 19|     2020|              MI|             FT|  Lead Data Engineer|   56000|            USD|        56000|                PT|         100|              US|           M|\n",
      "+---+---------+----------------+---------------+--------------------+--------+---------------+-------------+------------------+------------+----------------+------------+\n",
      "only showing top 20 rows\n",
      "\n"
     ]
    },
    {
     "name": "stderr",
     "output_type": "stream",
     "text": [
      "25/06/20 11:34:45 WARN CSVHeaderChecker: CSV header does not conform to the schema.\n",
      " Header: , work_year, experience_level, employment_type, job_title, salary, salary_currency, salary_in_usd, employee_residence, remote_ratio, company_location, company_size\n",
      " Schema: _c0, work_year, experience_level, employment_type, job_title, salary, salary_currency, salary_in_usd, employee_residence, remote_ratio, company_location, company_size\n",
      "Expected: _c0 but found: \n",
      "CSV file: file:///home/hello/projects/spark_demo_course_task/1_PySpark_Basics/ds_salaries.csv\n"
     ]
    }
   ],
   "source": [
    "df_with_schema.show()"
   ]
  },
  {
   "cell_type": "markdown",
   "id": "tamil-medium",
   "metadata": {},
   "source": [
    "print data in dataframe using display(df.toPandas())"
   ]
  },
  {
   "cell_type": "code",
   "execution_count": 9,
   "id": "connected-dryer",
   "metadata": {},
   "outputs": [
    {
     "name": "stderr",
     "output_type": "stream",
     "text": [
      "25/06/20 11:35:50 WARN CSVHeaderChecker: CSV header does not conform to the schema.\n",
      " Header: , work_year, experience_level, employment_type, job_title, salary, salary_currency, salary_in_usd, employee_residence, remote_ratio, company_location, company_size\n",
      " Schema: _c0, work_year, experience_level, employment_type, job_title, salary, salary_currency, salary_in_usd, employee_residence, remote_ratio, company_location, company_size\n",
      "Expected: _c0 but found: \n",
      "CSV file: file:///home/hello/projects/spark_demo_course_task/1_PySpark_Basics/ds_salaries.csv\n"
     ]
    },
    {
     "data": {
      "text/html": [
       "<div>\n",
       "<style scoped>\n",
       "    .dataframe tbody tr th:only-of-type {\n",
       "        vertical-align: middle;\n",
       "    }\n",
       "\n",
       "    .dataframe tbody tr th {\n",
       "        vertical-align: top;\n",
       "    }\n",
       "\n",
       "    .dataframe thead th {\n",
       "        text-align: right;\n",
       "    }\n",
       "</style>\n",
       "<table border=\"1\" class=\"dataframe\">\n",
       "  <thead>\n",
       "    <tr style=\"text-align: right;\">\n",
       "      <th></th>\n",
       "      <th>_c0</th>\n",
       "      <th>work_year</th>\n",
       "      <th>experience_level</th>\n",
       "      <th>employment_type</th>\n",
       "      <th>job_title</th>\n",
       "      <th>salary</th>\n",
       "      <th>salary_currency</th>\n",
       "      <th>salary_in_usd</th>\n",
       "      <th>employee_residence</th>\n",
       "      <th>remote_ratio</th>\n",
       "      <th>company_location</th>\n",
       "      <th>company_size</th>\n",
       "    </tr>\n",
       "  </thead>\n",
       "  <tbody>\n",
       "    <tr>\n",
       "      <th>0</th>\n",
       "      <td>0</td>\n",
       "      <td>2020</td>\n",
       "      <td>MI</td>\n",
       "      <td>FT</td>\n",
       "      <td>Data Scientist</td>\n",
       "      <td>70000</td>\n",
       "      <td>EUR</td>\n",
       "      <td>79833</td>\n",
       "      <td>DE</td>\n",
       "      <td>0</td>\n",
       "      <td>DE</td>\n",
       "      <td>L</td>\n",
       "    </tr>\n",
       "    <tr>\n",
       "      <th>1</th>\n",
       "      <td>1</td>\n",
       "      <td>2020</td>\n",
       "      <td>SE</td>\n",
       "      <td>FT</td>\n",
       "      <td>Machine Learning Scientist</td>\n",
       "      <td>260000</td>\n",
       "      <td>USD</td>\n",
       "      <td>260000</td>\n",
       "      <td>JP</td>\n",
       "      <td>0</td>\n",
       "      <td>JP</td>\n",
       "      <td>S</td>\n",
       "    </tr>\n",
       "    <tr>\n",
       "      <th>2</th>\n",
       "      <td>2</td>\n",
       "      <td>2020</td>\n",
       "      <td>SE</td>\n",
       "      <td>FT</td>\n",
       "      <td>Big Data Engineer</td>\n",
       "      <td>85000</td>\n",
       "      <td>GBP</td>\n",
       "      <td>109024</td>\n",
       "      <td>GB</td>\n",
       "      <td>50</td>\n",
       "      <td>GB</td>\n",
       "      <td>M</td>\n",
       "    </tr>\n",
       "    <tr>\n",
       "      <th>3</th>\n",
       "      <td>3</td>\n",
       "      <td>2020</td>\n",
       "      <td>MI</td>\n",
       "      <td>FT</td>\n",
       "      <td>Product Data Analyst</td>\n",
       "      <td>20000</td>\n",
       "      <td>USD</td>\n",
       "      <td>20000</td>\n",
       "      <td>HN</td>\n",
       "      <td>0</td>\n",
       "      <td>HN</td>\n",
       "      <td>S</td>\n",
       "    </tr>\n",
       "    <tr>\n",
       "      <th>4</th>\n",
       "      <td>4</td>\n",
       "      <td>2020</td>\n",
       "      <td>SE</td>\n",
       "      <td>FT</td>\n",
       "      <td>Machine Learning Engineer</td>\n",
       "      <td>150000</td>\n",
       "      <td>USD</td>\n",
       "      <td>150000</td>\n",
       "      <td>US</td>\n",
       "      <td>50</td>\n",
       "      <td>US</td>\n",
       "      <td>L</td>\n",
       "    </tr>\n",
       "  </tbody>\n",
       "</table>\n",
       "</div>"
      ],
      "text/plain": [
       "   _c0  work_year experience_level employment_type  \\\n",
       "0    0       2020               MI              FT   \n",
       "1    1       2020               SE              FT   \n",
       "2    2       2020               SE              FT   \n",
       "3    3       2020               MI              FT   \n",
       "4    4       2020               SE              FT   \n",
       "\n",
       "                    job_title  salary salary_currency  salary_in_usd  \\\n",
       "0              Data Scientist   70000             EUR          79833   \n",
       "1  Machine Learning Scientist  260000             USD         260000   \n",
       "2           Big Data Engineer   85000             GBP         109024   \n",
       "3        Product Data Analyst   20000             USD          20000   \n",
       "4   Machine Learning Engineer  150000             USD         150000   \n",
       "\n",
       "  employee_residence  remote_ratio company_location company_size  \n",
       "0                 DE             0               DE            L  \n",
       "1                 JP             0               JP            S  \n",
       "2                 GB            50               GB            M  \n",
       "3                 HN             0               HN            S  \n",
       "4                 US            50               US            L  "
      ]
     },
     "metadata": {},
     "output_type": "display_data"
    }
   ],
   "source": [
    "from IPython.display import display\n",
    "display(df_with_schema.limit(5).toPandas())"
   ]
  },
  {
   "cell_type": "markdown",
   "id": "opponent-gazette",
   "metadata": {},
   "source": [
    "create df_job_title that consists from all job_titles without duplicates"
   ]
  },
  {
   "cell_type": "code",
   "execution_count": 10,
   "id": "friendly-cartridge",
   "metadata": {},
   "outputs": [
    {
     "name": "stdout",
     "output_type": "stream",
     "text": [
      "+--------------------+\n",
      "|           job_title|\n",
      "+--------------------+\n",
      "|3D Computer Visio...|\n",
      "|  Lead Data Engineer|\n",
      "|Head of Machine L...|\n",
      "|     Data Specialist|\n",
      "| Data Analytics Lead|\n",
      "|Machine Learning ...|\n",
      "|   Lead Data Analyst|\n",
      "|Data Engineering ...|\n",
      "|Staff Data Scientist|\n",
      "|       ETL Developer|\n",
      "|Director of Data ...|\n",
      "|Product Data Analyst|\n",
      "|Principal Data Sc...|\n",
      "|        AI Scientist|\n",
      "|Director of Data ...|\n",
      "|Machine Learning ...|\n",
      "| Lead Data Scientist|\n",
      "|Machine Learning ...|\n",
      "|Data Science Engi...|\n",
      "|Machine Learning ...|\n",
      "+--------------------+\n",
      "only showing top 20 rows\n",
      "\n"
     ]
    }
   ],
   "source": [
    "df = df_with_schema\n",
    "df_job_title = df.dropDuplicates([\"job_title\"]).select(\"job_title\")\n",
    "df_job_title.show()"
   ]
  },
  {
   "cell_type": "markdown",
   "id": "offshore-architecture",
   "metadata": {},
   "source": [
    "print all rows from df_job_titles without truncating jobs"
   ]
  },
  {
   "cell_type": "code",
   "execution_count": 11,
   "id": "asian-edition",
   "metadata": {},
   "outputs": [
    {
     "name": "stdout",
     "output_type": "stream",
     "text": [
      "+----------------------------------------+\n",
      "|job_title                               |\n",
      "+----------------------------------------+\n",
      "|3D Computer Vision Researcher           |\n",
      "|Lead Data Engineer                      |\n",
      "|Head of Machine Learning                |\n",
      "|Data Specialist                         |\n",
      "|Data Analytics Lead                     |\n",
      "|Machine Learning Scientist              |\n",
      "|Lead Data Analyst                       |\n",
      "|Data Engineering Manager                |\n",
      "|Staff Data Scientist                    |\n",
      "|ETL Developer                           |\n",
      "|Director of Data Engineering            |\n",
      "|Product Data Analyst                    |\n",
      "|Principal Data Scientist                |\n",
      "|AI Scientist                            |\n",
      "|Director of Data Science                |\n",
      "|Machine Learning Engineer               |\n",
      "|Lead Data Scientist                     |\n",
      "|Machine Learning Infrastructure Engineer|\n",
      "|Data Science Engineer                   |\n",
      "|Machine Learning Manager                |\n",
      "+----------------------------------------+\n",
      "only showing top 20 rows\n",
      "\n"
     ]
    }
   ],
   "source": [
    "df_job_title.show(truncate=False)"
   ]
  },
  {
   "cell_type": "markdown",
   "id": "interim-pharmacy",
   "metadata": {},
   "source": [
    "create  df_analytic that will consists from max, avg, min USD salaries for all job_titles using groupBy. name of fields is avg_salary, min_salary, max_salary"
   ]
  },
  {
   "cell_type": "code",
   "execution_count": 12,
   "id": "naval-roller",
   "metadata": {},
   "outputs": [],
   "source": [
    "df_analytic = df.groupBy(\"job_title\") \\\n",
    "    .agg(\n",
    "        max(\"salary_in_usd\").alias(\"max_salary\"),\n",
    "        avg(\"salary_in_usd\").alias(\"avg_salary\"),\n",
    "        min(\"salary_in_usd\").alias(\"min_salary\"),\n",
    "    )"
   ]
  },
  {
   "cell_type": "markdown",
   "id": "french-pledge",
   "metadata": {},
   "source": [
    "print all rows from df_analytic without trancating jobs"
   ]
  },
  {
   "cell_type": "code",
   "execution_count": 14,
   "id": "bacterial-depression",
   "metadata": {},
   "outputs": [
    {
     "name": "stdout",
     "output_type": "stream",
     "text": [
      "+----------------------------------------+----------+------------------+----------+\n",
      "|job_title                               |max_salary|avg_salary        |min_salary|\n",
      "+----------------------------------------+----------+------------------+----------+\n",
      "|3D Computer Vision Researcher           |5409      |5409.0            |5409      |\n",
      "|Lead Data Engineer                      |276000    |139724.5          |56000     |\n",
      "|Head of Machine Learning                |79039     |79039.0           |79039     |\n",
      "|Data Specialist                         |165000    |165000.0          |165000    |\n",
      "|Data Analytics Lead                     |405000    |405000.0          |405000    |\n",
      "|Machine Learning Scientist              |260000    |158412.5          |12000     |\n",
      "|Lead Data Analyst                       |170000    |92203.0           |19609     |\n",
      "|Data Engineering Manager                |174000    |123227.2          |59303     |\n",
      "|Staff Data Scientist                    |105000    |105000.0          |105000    |\n",
      "|ETL Developer                           |54957     |54957.0           |54957     |\n",
      "|Director of Data Engineering            |200000    |156738.0          |113476    |\n",
      "|Product Data Analyst                    |20000     |13036.0           |6072      |\n",
      "|Principal Data Scientist                |416000    |215242.42857142858|148261    |\n",
      "|AI Scientist                            |200000    |66135.57142857143 |12000     |\n",
      "|Director of Data Science                |325000    |195074.0          |130026    |\n",
      "|Machine Learning Engineer               |250000    |104880.14634146342|20000     |\n",
      "|Lead Data Scientist                     |190000    |115190.0          |40570     |\n",
      "|Machine Learning Infrastructure Engineer|195000    |101145.0          |50180     |\n",
      "|Data Science Engineer                   |127221    |75803.33333333333 |40189     |\n",
      "|Machine Learning Manager                |117104    |117104.0          |117104    |\n",
      "+----------------------------------------+----------+------------------+----------+\n",
      "only showing top 20 rows\n",
      "\n"
     ]
    }
   ],
   "source": [
    "df_analytic.show(truncate=False)"
   ]
  },
  {
   "cell_type": "markdown",
   "id": "hazardous-color",
   "metadata": {},
   "source": [
    "now you need to add in df_analytic column row_id, that will show order of all job_titles depending on avg salary. they should be descending"
   ]
  },
  {
   "cell_type": "code",
   "execution_count": 15,
   "id": "nearby-treasurer",
   "metadata": {},
   "outputs": [],
   "source": [
    "from pyspark.sql.functions import desc\n",
    "windowSpec = Window.orderBy(desc(\"avg_salary\"))\n",
    "\n",
    "df_analytic = df_analytic.withColumn(\"row_id\", row_number().over(windowSpec))"
   ]
  },
  {
   "cell_type": "markdown",
   "id": "documented-catalog",
   "metadata": {},
   "source": [
    "print all data from df_analytic"
   ]
  },
  {
   "cell_type": "code",
   "execution_count": 18,
   "id": "confirmed-monitoring",
   "metadata": {},
   "outputs": [
    {
     "name": "stderr",
     "output_type": "stream",
     "text": [
      "25/06/20 11:42:55 WARN WindowExec: No Partition Defined for Window operation! Moving all data to a single partition, this can cause serious performance degradation.\n"
     ]
    },
    {
     "name": "stdout",
     "output_type": "stream",
     "text": [
      "+----------------------------------+----------+------------------+----------+------+\n",
      "|job_title                         |max_salary|avg_salary        |min_salary|row_id|\n",
      "+----------------------------------+----------+------------------+----------+------+\n",
      "|Data Analytics Lead               |405000    |405000.0          |405000    |1     |\n",
      "|Principal Data Engineer           |600000    |328333.3333333333 |185000    |2     |\n",
      "|Financial Data Analyst            |450000    |275000.0          |100000    |3     |\n",
      "|Principal Data Scientist          |416000    |215242.42857142858|148261    |4     |\n",
      "|Director of Data Science          |325000    |195074.0          |130026    |5     |\n",
      "|Data Architect                    |266400    |177873.9090909091 |90700     |6     |\n",
      "|Applied Data Scientist            |380000    |175655.0          |54238     |7     |\n",
      "|Analytics Engineer                |205300    |175000.0          |135000    |8     |\n",
      "|Data Specialist                   |165000    |165000.0          |165000    |9     |\n",
      "|Head of Data                      |235000    |160162.6          |32974     |10    |\n",
      "|Machine Learning Scientist        |260000    |158412.5          |12000     |11    |\n",
      "|Data Science Manager              |241000    |158328.5          |54094     |12    |\n",
      "|Director of Data Engineering      |200000    |156738.0          |113476    |13    |\n",
      "|Head of Data Science              |224000    |146718.75         |85000     |14    |\n",
      "|Applied Machine Learning Scientist|423000    |142068.75         |31875     |15    |\n",
      "|Lead Data Engineer                |276000    |139724.5          |56000     |16    |\n",
      "|Data Analytics Manager            |150260    |127134.28571428571|105400    |17    |\n",
      "|Cloud Data Engineer               |160000    |124647.0          |89294     |18    |\n",
      "|Data Engineering Manager          |174000    |123227.2          |59303     |19    |\n",
      "|Principal Data Analyst            |170000    |122500.0          |75000     |20    |\n",
      "+----------------------------------+----------+------------------+----------+------+\n",
      "only showing top 20 rows\n",
      "\n"
     ]
    }
   ],
   "source": [
    "df_analytic.show(truncate=False)"
   ]
  },
  {
   "cell_type": "markdown",
   "id": "satellite-quarter",
   "metadata": {},
   "source": [
    "it isn't beautifull, so we need to put now row_id on first place in df_analytic"
   ]
  },
  {
   "cell_type": "code",
   "execution_count": 19,
   "id": "ranging-tribune",
   "metadata": {},
   "outputs": [],
   "source": [
    "new_cols = [df_analytic.columns[-1]] + df_analytic.columns[:-1]\n",
    "df_analytic = df_analytic.select(new_cols)"
   ]
  },
  {
   "cell_type": "markdown",
   "id": "reliable-amsterdam",
   "metadata": {},
   "source": [
    "print df_analytic now"
   ]
  },
  {
   "cell_type": "code",
   "execution_count": 20,
   "id": "classical-biology",
   "metadata": {},
   "outputs": [
    {
     "name": "stderr",
     "output_type": "stream",
     "text": [
      "25/06/20 11:44:30 WARN WindowExec: No Partition Defined for Window operation! Moving all data to a single partition, this can cause serious performance degradation.\n"
     ]
    },
    {
     "name": "stdout",
     "output_type": "stream",
     "text": [
      "+------+----------------------------------+----------+------------------+----------+\n",
      "|row_id|job_title                         |max_salary|avg_salary        |min_salary|\n",
      "+------+----------------------------------+----------+------------------+----------+\n",
      "|1     |Data Analytics Lead               |405000    |405000.0          |405000    |\n",
      "|2     |Principal Data Engineer           |600000    |328333.3333333333 |185000    |\n",
      "|3     |Financial Data Analyst            |450000    |275000.0          |100000    |\n",
      "|4     |Principal Data Scientist          |416000    |215242.42857142858|148261    |\n",
      "|5     |Director of Data Science          |325000    |195074.0          |130026    |\n",
      "|6     |Data Architect                    |266400    |177873.9090909091 |90700     |\n",
      "|7     |Applied Data Scientist            |380000    |175655.0          |54238     |\n",
      "|8     |Analytics Engineer                |205300    |175000.0          |135000    |\n",
      "|9     |Data Specialist                   |165000    |165000.0          |165000    |\n",
      "|10    |Head of Data                      |235000    |160162.6          |32974     |\n",
      "|11    |Machine Learning Scientist        |260000    |158412.5          |12000     |\n",
      "|12    |Data Science Manager              |241000    |158328.5          |54094     |\n",
      "|13    |Director of Data Engineering      |200000    |156738.0          |113476    |\n",
      "|14    |Head of Data Science              |224000    |146718.75         |85000     |\n",
      "|15    |Applied Machine Learning Scientist|423000    |142068.75         |31875     |\n",
      "|16    |Lead Data Engineer                |276000    |139724.5          |56000     |\n",
      "|17    |Data Analytics Manager            |150260    |127134.28571428571|105400    |\n",
      "|18    |Cloud Data Engineer               |160000    |124647.0          |89294     |\n",
      "|19    |Data Engineering Manager          |174000    |123227.2          |59303     |\n",
      "|20    |Principal Data Analyst            |170000    |122500.0          |75000     |\n",
      "+------+----------------------------------+----------+------------------+----------+\n",
      "only showing top 20 rows\n",
      "\n"
     ]
    }
   ],
   "source": [
    "df_analytic.show(truncate=False)"
   ]
  },
  {
   "cell_type": "markdown",
   "id": "hybrid-queensland",
   "metadata": {},
   "source": [
    "here you need to create df_exp_lvl with the biggest usd_salary(biggest_salary) for each experience_level(you need to save all fields like in entire dataframe)"
   ]
  },
  {
   "cell_type": "markdown",
   "id": "6783b7d1",
   "metadata": {},
   "source": [
    "тут я сделал обычный груп бай и оставил только две колонки. В описании сказано \"сохранить все колонки\", тогда нужно делать оконной функцией, а в таком случае ломается смысл следующего таска (df_best) тк у нас итак будет нужная таблица (за исключением того что там нужно будет выбрать только 4 колонки). Поэтому тут я остановился на груп бай, чтобы красиво связать со следующим таском. А дальше там уже будет пример как я исползую оконку"
   ]
  },
  {
   "cell_type": "code",
   "execution_count": 21,
   "id": "dental-wrist",
   "metadata": {},
   "outputs": [],
   "source": [
    "df_exp_lvl = df.groupBy(\"experience_level\").max(\"salary_in_usd\")"
   ]
  },
  {
   "cell_type": "markdown",
   "id": "innovative-hierarchy",
   "metadata": {},
   "source": [
    "print here df_exp_lvl"
   ]
  },
  {
   "cell_type": "code",
   "execution_count": 22,
   "id": "standing-toilet",
   "metadata": {},
   "outputs": [
    {
     "name": "stdout",
     "output_type": "stream",
     "text": [
      "+----------------+------------------+\n",
      "|experience_level|max(salary_in_usd)|\n",
      "+----------------+------------------+\n",
      "|              EX|            600000|\n",
      "|              MI|            450000|\n",
      "|              EN|            250000|\n",
      "|              SE|            412000|\n",
      "+----------------+------------------+\n",
      "\n"
     ]
    }
   ],
   "source": [
    "df_exp_lvl.show()"
   ]
  },
  {
   "cell_type": "markdown",
   "id": "hawaiian-mortgage",
   "metadata": {},
   "source": [
    "create df_best that consists from rows where salary of guy same as biggest salary for other people in his exp_lvl and choose only columns: id, experience_level, biggest_salary, employee_residence"
   ]
  },
  {
   "cell_type": "code",
   "execution_count": 23,
   "id": "toxic-prompt",
   "metadata": {},
   "outputs": [],
   "source": [
    "from pyspark.sql.functions import broadcast\n",
    "df_exp_lvl = df_exp_lvl.withColumnRenamed(\"max(salary_in_usd)\", \"biggest_salary\")\n",
    "\n",
    "df_joined_exp = df.join(broadcast(df_exp_lvl), on = \"experience_level\").withColumnRenamed(\"_c0\", \"id\")  \n",
    "\n",
    "df_best = df_joined_exp.filter(df_joined_exp[\"salary_in_usd\"] == df_joined_exp[\"biggest_salary\"]).select(\"id\", \"experience_level\", \"biggest_salary\", \"employee_residence\")\n"
   ]
  },
  {
   "cell_type": "markdown",
   "id": "complex-librarian",
   "metadata": {},
   "source": [
    "print df_best"
   ]
  },
  {
   "cell_type": "code",
   "execution_count": 24,
   "id": "smart-texas",
   "metadata": {},
   "outputs": [
    {
     "name": "stdout",
     "output_type": "stream",
     "text": [
      "+---+----------------+--------------+------------------+\n",
      "| id|experience_level|biggest_salary|employee_residence|\n",
      "+---+----------------+--------------+------------------+\n",
      "| 33|              MI|        450000|                US|\n",
      "| 37|              EN|        250000|                US|\n",
      "| 63|              SE|        412000|                US|\n",
      "| 97|              MI|        450000|                US|\n",
      "|252|              EX|        600000|                US|\n",
      "+---+----------------+--------------+------------------+\n",
      "\n"
     ]
    },
    {
     "name": "stderr",
     "output_type": "stream",
     "text": [
      "25/06/20 12:04:03 WARN CSVHeaderChecker: CSV header does not conform to the schema.\n",
      " Header: , experience_level, salary_in_usd, employee_residence\n",
      " Schema: _c0, experience_level, salary_in_usd, employee_residence\n",
      "Expected: _c0 but found: \n",
      "CSV file: file:///home/hello/projects/spark_demo_course_task/1_PySpark_Basics/ds_salaries.csv\n"
     ]
    }
   ],
   "source": [
    "df_best.show()"
   ]
  },
  {
   "cell_type": "markdown",
   "id": "integral-brass",
   "metadata": {},
   "source": [
    "drop duplicates if exist by experience_level"
   ]
  },
  {
   "cell_type": "code",
   "execution_count": 25,
   "id": "immune-marine",
   "metadata": {},
   "outputs": [],
   "source": [
    "df_best = df_best.dropDuplicates([\"experience_level\"])"
   ]
  },
  {
   "cell_type": "markdown",
   "id": "connected-credit",
   "metadata": {},
   "source": [
    "print df_best"
   ]
  },
  {
   "cell_type": "code",
   "execution_count": 26,
   "id": "specified-wellington",
   "metadata": {},
   "outputs": [
    {
     "name": "stderr",
     "output_type": "stream",
     "text": [
      "25/06/20 12:05:21 WARN CSVHeaderChecker: CSV header does not conform to the schema.\n",
      " Header: , experience_level, salary_in_usd, employee_residence\n",
      " Schema: _c0, experience_level, salary_in_usd, employee_residence\n",
      "Expected: _c0 but found: \n",
      "CSV file: file:///home/hello/projects/spark_demo_course_task/1_PySpark_Basics/ds_salaries.csv\n"
     ]
    },
    {
     "name": "stdout",
     "output_type": "stream",
     "text": [
      "+---+----------------+--------------+------------------+\n",
      "| id|experience_level|biggest_salary|employee_residence|\n",
      "+---+----------------+--------------+------------------+\n",
      "|252|              EX|        600000|                US|\n",
      "| 33|              MI|        450000|                US|\n",
      "| 37|              EN|        250000|                US|\n",
      "| 63|              SE|        412000|                US|\n",
      "+---+----------------+--------------+------------------+\n",
      "\n"
     ]
    }
   ],
   "source": [
    "df_best.show()"
   ]
  },
  {
   "cell_type": "markdown",
   "id": "facial-plant",
   "metadata": {},
   "source": [
    "create df_new_best from df_best without id, and make the next: when exp_level = MI we want middle, when SE we want senior, else Null"
   ]
  },
  {
   "cell_type": "code",
   "execution_count": 31,
   "id": "infinite-retail",
   "metadata": {},
   "outputs": [],
   "source": [
    "# from pyspark.sql.functions import udf\n",
    "\n",
    "# def new_exp_lvl(s):\n",
    "#     if s == \"MI\":\n",
    "#         return \"middle\"\n",
    "#     if s == \"SE\":\n",
    "#         return \"senior\"\n",
    "#     return None\n",
    "\n",
    "# new_exp_lvl_udf = udf(new_exp_lvl, StringType())\n",
    "\n",
    "from pyspark.sql.functions import lit\n",
    "\n",
    "df_new_best = df_best.withColumn(\"experience_level\", when(col(\"experience_level\") == \"MI\", \"middle\")\n",
    "                                 .when(col(\"experience_level\") == \"SE\", \"senior\")\n",
    "                                 .otherwise(lit(None))\n",
    "        ).drop(\"id\")"
   ]
  },
  {
   "cell_type": "markdown",
   "id": "changing-fairy",
   "metadata": {},
   "source": [
    "print df_new_best"
   ]
  },
  {
   "cell_type": "code",
   "execution_count": 32,
   "id": "endless-framework",
   "metadata": {},
   "outputs": [
    {
     "name": "stdout",
     "output_type": "stream",
     "text": [
      "+----------------+--------------+------------------+\n",
      "|experience_level|biggest_salary|employee_residence|\n",
      "+----------------+--------------+------------------+\n",
      "|            null|        600000|                US|\n",
      "|          middle|        450000|                US|\n",
      "|            null|        250000|                US|\n",
      "|          senior|        412000|                US|\n",
      "+----------------+--------------+------------------+\n",
      "\n"
     ]
    }
   ],
   "source": [
    "df_new_best.show()"
   ]
  },
  {
   "cell_type": "markdown",
   "id": "mineral-status",
   "metadata": {},
   "source": [
    "write df_new_best like 1.csv and load then it to df_final"
   ]
  },
  {
   "cell_type": "code",
   "execution_count": 41,
   "id": "baking-progress",
   "metadata": {},
   "outputs": [],
   "source": [
    "df_new_best.coalesce(1).write.option(\"header\", True).csv(\"1.csv\")\n",
    "\n"
   ]
  },
  {
   "cell_type": "code",
   "execution_count": 42,
   "id": "d66c8d91",
   "metadata": {},
   "outputs": [],
   "source": [
    "df_final = spark.read.option(\"header\", True).option(\"inferSchema\", True).csv(\"1.csv\")"
   ]
  },
  {
   "cell_type": "markdown",
   "id": "vocal-shooting",
   "metadata": {},
   "source": [
    "print df_final"
   ]
  },
  {
   "cell_type": "code",
   "execution_count": 43,
   "id": "expired-viewer",
   "metadata": {},
   "outputs": [
    {
     "name": "stdout",
     "output_type": "stream",
     "text": [
      "+----------------+--------------+------------------+\n",
      "|experience_level|biggest_salary|employee_residence|\n",
      "+----------------+--------------+------------------+\n",
      "|            null|        600000|                US|\n",
      "|          middle|        450000|                US|\n",
      "|            null|        250000|                US|\n",
      "|          senior|        412000|                US|\n",
      "+----------------+--------------+------------------+\n",
      "\n"
     ]
    }
   ],
   "source": [
    "df_final.show()"
   ]
  },
  {
   "cell_type": "markdown",
   "id": "nutritional-progress",
   "metadata": {},
   "source": [
    "filter df_final to delete experience_level where it Null, then join this table by biggest_salary(salary_in_usd) and employee_residence with entire df"
   ]
  },
  {
   "cell_type": "code",
   "execution_count": 46,
   "id": "small-polymer",
   "metadata": {},
   "outputs": [],
   "source": [
    "df_final_1 = df_final.filter(col(\"experience_level\").isNotNull())"
   ]
  },
  {
   "cell_type": "code",
   "execution_count": 47,
   "id": "b3c4c0c6",
   "metadata": {},
   "outputs": [
    {
     "name": "stdout",
     "output_type": "stream",
     "text": [
      "+----------------+--------------+------------------+\n",
      "|experience_level|biggest_salary|employee_residence|\n",
      "+----------------+--------------+------------------+\n",
      "|          middle|        450000|                US|\n",
      "|          senior|        412000|                US|\n",
      "+----------------+--------------+------------------+\n",
      "\n"
     ]
    }
   ],
   "source": [
    "df_final_1.show()"
   ]
  },
  {
   "cell_type": "code",
   "execution_count": 48,
   "id": "6b2c00ad",
   "metadata": {},
   "outputs": [],
   "source": [
    "df_final_joined = df.join(broadcast(df_final_1), (df[\"salary_in_usd\"] == df_final_1[\"biggest_salary\"]) & (df[\"employee_residence\"] == df_final_1[\"employee_residence\"]))"
   ]
  },
  {
   "cell_type": "markdown",
   "id": "variable-twins",
   "metadata": {},
   "source": [
    "print df_final"
   ]
  },
  {
   "cell_type": "code",
   "execution_count": 49,
   "id": "generic-block",
   "metadata": {},
   "outputs": [
    {
     "name": "stdout",
     "output_type": "stream",
     "text": [
      "+---+---------+----------------+---------------+--------------------+------+---------------+-------------+------------------+------------+----------------+------------+----------------+--------------+------------------+\n",
      "|_c0|work_year|experience_level|employment_type|           job_title|salary|salary_currency|salary_in_usd|employee_residence|remote_ratio|company_location|company_size|experience_level|biggest_salary|employee_residence|\n",
      "+---+---------+----------------+---------------+--------------------+------+---------------+-------------+------------------+------------+----------------+------------+----------------+--------------+------------------+\n",
      "| 33|     2020|              MI|             FT|  Research Scientist|450000|            USD|       450000|                US|           0|              US|           M|          middle|        450000|                US|\n",
      "| 63|     2020|              SE|             FT|      Data Scientist|412000|            USD|       412000|                US|         100|              US|           L|          senior|        412000|                US|\n",
      "| 97|     2021|              MI|             FT|Financial Data An...|450000|            USD|       450000|                US|         100|              US|           L|          middle|        450000|                US|\n",
      "+---+---------+----------------+---------------+--------------------+------+---------------+-------------+------------------+------------+----------------+------------+----------------+--------------+------------------+\n",
      "\n"
     ]
    },
    {
     "name": "stderr",
     "output_type": "stream",
     "text": [
      "25/06/20 12:25:44 WARN CSVHeaderChecker: CSV header does not conform to the schema.\n",
      " Header: , work_year, experience_level, employment_type, job_title, salary, salary_currency, salary_in_usd, employee_residence, remote_ratio, company_location, company_size\n",
      " Schema: _c0, work_year, experience_level, employment_type, job_title, salary, salary_currency, salary_in_usd, employee_residence, remote_ratio, company_location, company_size\n",
      "Expected: _c0 but found: \n",
      "CSV file: file:///home/hello/projects/spark_demo_course_task/1_PySpark_Basics/ds_salaries.csv\n"
     ]
    }
   ],
   "source": [
    "df_final_joined.show()"
   ]
  },
  {
   "cell_type": "markdown",
   "id": "variable-moore",
   "metadata": {},
   "source": [
    "last task is to save in variable and then print this variable of the biggest salary_in_usd from df_final"
   ]
  },
  {
   "cell_type": "code",
   "execution_count": 57,
   "id": "individual-institution",
   "metadata": {},
   "outputs": [
    {
     "name": "stdout",
     "output_type": "stream",
     "text": [
      "450000\n"
     ]
    }
   ],
   "source": [
    "max_salary = df_final_joined.groupBy().max(\"biggest_salary\").first()[0]\n",
    "print(max_salary)\n"
   ]
  },
  {
   "cell_type": "markdown",
   "id": "stopped-procedure",
   "metadata": {},
   "source": [
    "It is the end of PySpark basics. In other lessons you will learn optimizations technics and how to make distributed system"
   ]
  }
 ],
 "metadata": {
  "kernelspec": {
   "display_name": "venv",
   "language": "python",
   "name": "python3"
  },
  "language_info": {
   "codemirror_mode": {
    "name": "ipython",
    "version": 3
   },
   "file_extension": ".py",
   "mimetype": "text/x-python",
   "name": "python",
   "nbconvert_exporter": "python",
   "pygments_lexer": "ipython3",
   "version": "3.10.13"
  }
 },
 "nbformat": 4,
 "nbformat_minor": 5
}
